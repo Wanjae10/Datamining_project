{
 "cells": [
  {
   "cell_type": "code",
   "execution_count": 114,
   "metadata": {},
   "outputs": [],
   "source": [
    "import pandas as pd\n",
    "import numpy as np\n",
    "import matplotlib.pyplot as plt\n",
    "import seaborn as sns\n",
    "import statsmodels.api as sm\n",
    "from sklearn.preprocessing import StandardScaler\n",
    "from sklearn.model_selection import train_test_split\n",
    "from sklearn.linear_model import LogisticRegression\n",
    "from sklearn.metrics import accuracy_score, confusion_matrix, classification_report\n",
    "from statsmodels.stats.outliers_influence import variance_inflation_factor"
   ]
  },
  {
   "cell_type": "code",
   "execution_count": 115,
   "metadata": {},
   "outputs": [],
   "source": [
    "df=pd.read_csv(\"WA_Fn-UseC_-HR-Employee-Attrition.csv\")"
   ]
  },
  {
   "cell_type": "code",
   "execution_count": 116,
   "metadata": {},
   "outputs": [
    {
     "data": {
      "text/plain": [
       "Index(['Age', 'Attrition', 'BusinessTravel', 'DailyRate', 'Department',\n",
       "       'DistanceFromHome', 'Education', 'EducationField', 'EmployeeCount',\n",
       "       'EmployeeNumber', 'EnvironmentSatisfaction', 'Gender', 'HourlyRate',\n",
       "       'JobInvolvement', 'JobLevel', 'JobRole', 'JobSatisfaction',\n",
       "       'MaritalStatus', 'MonthlyIncome', 'MonthlyRate', 'NumCompaniesWorked',\n",
       "       'Over18', 'OverTime', 'PercentSalaryHike', 'PerformanceRating',\n",
       "       'RelationshipSatisfaction', 'StandardHours', 'StockOptionLevel',\n",
       "       'TotalWorkingYears', 'TrainingTimesLastYear', 'WorkLifeBalance',\n",
       "       'YearsAtCompany', 'YearsInCurrentRole', 'YearsSinceLastPromotion',\n",
       "       'YearsWithCurrManager'],\n",
       "      dtype='object')"
      ]
     },
     "execution_count": 116,
     "metadata": {},
     "output_type": "execute_result"
    }
   ],
   "source": [
    "df.columns"
   ]
  },
  {
   "cell_type": "markdown",
   "metadata": {},
   "source": [
    "변수 설명\n",
    "Age: 직원의 나이  \n",
    "Attrition: 퇴사 여부 (Yes/No)  \n",
    "BusinessTravel: 출장 빈도 (Rarely, Frequently, Non-Travel)  \n",
    "DailyRate: 하루 급여  \n",
    "Department: 소속 부서 (Sales, Research & Development, Human Resources)  \n",
    "DistanceFromHome: 집에서 회사까지의 거리  \n",
    "Education: 교육 수준 (1 'Below College' 2 'College' 3 'Bachelor' 4 'Master' 5 'Doctor')  \n",
    "EducationField: 전공 분야 (Life Sciences, Other, Medical, Marketing 등)  \n",
    "EmployeeCount: 직원 수 (모두 1로 설정된 상수)  \n",
    "EmployeeNumber: 직원 고유 번호  \n",
    "EnvironmentSatisfaction: 근무 환경 만족도 (1 'Low' 2 'Medium' 3 'High' 4 'Very High')  \n",
    "Gender: 성별 (Male/Female)  \n",
    "HourlyRate: 시간당 급여  \n",
    "JobInvolvement: 직무 몰입도 (1 'Low' 2 'Medium' 3 'High' 4 'Very High')  \n",
    "JobLevel: 직급 수준  \n",
    "JobRole: 직무 역할 (Sales Executive, Research Scientist 등)  \n",
    "JobSatisfaction: 직무 만족도 (1 'Low' 2 'Medium' 3 'High' 4 'Very High')  \n",
    "MaritalStatus: 결혼 상태 (Single, Married, Divorced)  \n",
    "MonthlyIncome: 월급  \n",
    "MonthlyRate: 월간 기본 급여율  \n",
    "NumCompaniesWorked: 이전에 근무했던 회사 수  \n",
    "Over18: 성인 여부 (모두 \"Y\")  \n",
    "OverTime: 초과 근무 여부 (Yes/No)  \n",
    "PercentSalaryHike: 연봉 인상률 (지난 연봉 대비 백분율)  \n",
    "PerformanceRating: 성과 등급 (1 'Low' 2 'Good' 3 'Excellent' 4 'Outstanding')  \n",
    "RelationshipSatisfaction: 인간관계 만족도 (1 'Low' 2 'Medium' 3 'High' 4 'Very High' )  \n",
    "StandardHours: 표준 근무 시간 (모두 80으로 설정된 상수)  \n",
    "StockOptionLevel: 주식 옵션 수준 (0~3으로 측정)  \n",
    "TotalWorkingYears: 총 경력 연수  \n",
    "TrainingTimesLastYear: 지난 1년간 교육받은 횟수  \n",
    "WorkLifeBalance: 일과 삶의 균형 (1 'Bad' 2 'Good' 3 'Better' 4 'Best' )  \n",
    "YearsAtCompany: 회사에서 근무한 연수  \n",
    "YearsInCurrentRole: 현재 직무에서 근무한 연수  \n",
    "YearsSinceLastPromotion: 마지막 승진 이후 지난 연수  \n",
    "YearsWithCurrManager: 현재 관리자가 부임한 이후 함께한 연수  "
   ]
  },
  {
   "cell_type": "markdown",
   "metadata": {},
   "source": [
    "값이 일정한 변수, 즉 고유값이 1인 변수들은 모델 학습에 의미가 없으므로 제거 필요"
   ]
  },
  {
   "cell_type": "markdown",
   "metadata": {},
   "source": [
    "또한 직원 고유 번호 변수도 의미가 없으므로 제거"
   ]
  },
  {
   "cell_type": "markdown",
   "metadata": {},
   "source": [
    "-----"
   ]
  },
  {
   "cell_type": "markdown",
   "metadata": {},
   "source": [
    "## 데이터 정제 및 전처리"
   ]
  },
  {
   "cell_type": "code",
   "execution_count": 117,
   "metadata": {},
   "outputs": [],
   "source": [
    "# 변수들의 고유값이 1, 즉 하나의 값만을 가진 변수들은 제거\n",
    "df = df.drop(columns=['EmployeeCount', 'Over18', 'StandardHours','EmployeeNumber'])"
   ]
  },
  {
   "cell_type": "code",
   "execution_count": 118,
   "metadata": {},
   "outputs": [
    {
     "data": {
      "text/plain": [
       "Age                           43\n",
       "Attrition                      2\n",
       "BusinessTravel                 3\n",
       "DailyRate                    886\n",
       "Department                     3\n",
       "DistanceFromHome              29\n",
       "Education                      5\n",
       "EducationField                 6\n",
       "EnvironmentSatisfaction        4\n",
       "Gender                         2\n",
       "HourlyRate                    71\n",
       "JobInvolvement                 4\n",
       "JobLevel                       5\n",
       "JobRole                        9\n",
       "JobSatisfaction                4\n",
       "MaritalStatus                  3\n",
       "MonthlyIncome               1349\n",
       "MonthlyRate                 1427\n",
       "NumCompaniesWorked            10\n",
       "OverTime                       2\n",
       "PercentSalaryHike             15\n",
       "PerformanceRating              2\n",
       "RelationshipSatisfaction       4\n",
       "StockOptionLevel               4\n",
       "TotalWorkingYears             40\n",
       "TrainingTimesLastYear          7\n",
       "WorkLifeBalance                4\n",
       "YearsAtCompany                37\n",
       "YearsInCurrentRole            19\n",
       "YearsSinceLastPromotion       16\n",
       "YearsWithCurrManager          18\n",
       "dtype: int64"
      ]
     },
     "execution_count": 118,
     "metadata": {},
     "output_type": "execute_result"
    }
   ],
   "source": [
    "# 변수들의 고유값을 파악함으로써 이상치가 있는지 간략하게 확인\n",
    "df.nunique()"
   ]
  },
  {
   "cell_type": "code",
   "execution_count": 119,
   "metadata": {},
   "outputs": [
    {
     "data": {
      "text/plain": [
       "<bound method DataFrame.transpose of                Age    DailyRate  DistanceFromHome    Education  \\\n",
       "count  1470.000000  1470.000000       1470.000000  1470.000000   \n",
       "mean     36.923810   802.485714          9.192517     2.912925   \n",
       "std       9.135373   403.509100          8.106864     1.024165   \n",
       "min      18.000000   102.000000          1.000000     1.000000   \n",
       "25%      30.000000   465.000000          2.000000     2.000000   \n",
       "50%      36.000000   802.000000          7.000000     3.000000   \n",
       "75%      43.000000  1157.000000         14.000000     4.000000   \n",
       "max      60.000000  1499.000000         29.000000     5.000000   \n",
       "\n",
       "       EnvironmentSatisfaction   HourlyRate  JobInvolvement     JobLevel  \\\n",
       "count              1470.000000  1470.000000     1470.000000  1470.000000   \n",
       "mean                  2.721769    65.891156        2.729932     2.063946   \n",
       "std                   1.093082    20.329428        0.711561     1.106940   \n",
       "min                   1.000000    30.000000        1.000000     1.000000   \n",
       "25%                   2.000000    48.000000        2.000000     1.000000   \n",
       "50%                   3.000000    66.000000        3.000000     2.000000   \n",
       "75%                   4.000000    83.750000        3.000000     3.000000   \n",
       "max                   4.000000   100.000000        4.000000     5.000000   \n",
       "\n",
       "       JobSatisfaction  MonthlyIncome  ...  PerformanceRating  \\\n",
       "count      1470.000000    1470.000000  ...        1470.000000   \n",
       "mean          2.728571    6502.931293  ...           3.153741   \n",
       "std           1.102846    4707.956783  ...           0.360824   \n",
       "min           1.000000    1009.000000  ...           3.000000   \n",
       "25%           2.000000    2911.000000  ...           3.000000   \n",
       "50%           3.000000    4919.000000  ...           3.000000   \n",
       "75%           4.000000    8379.000000  ...           3.000000   \n",
       "max           4.000000   19999.000000  ...           4.000000   \n",
       "\n",
       "       RelationshipSatisfaction  StockOptionLevel  TotalWorkingYears  \\\n",
       "count               1470.000000       1470.000000        1470.000000   \n",
       "mean                   2.712245          0.793878          11.279592   \n",
       "std                    1.081209          0.852077           7.780782   \n",
       "min                    1.000000          0.000000           0.000000   \n",
       "25%                    2.000000          0.000000           6.000000   \n",
       "50%                    3.000000          1.000000          10.000000   \n",
       "75%                    4.000000          1.000000          15.000000   \n",
       "max                    4.000000          3.000000          40.000000   \n",
       "\n",
       "       TrainingTimesLastYear  WorkLifeBalance  YearsAtCompany  \\\n",
       "count            1470.000000      1470.000000     1470.000000   \n",
       "mean                2.799320         2.761224        7.008163   \n",
       "std                 1.289271         0.706476        6.126525   \n",
       "min                 0.000000         1.000000        0.000000   \n",
       "25%                 2.000000         2.000000        3.000000   \n",
       "50%                 3.000000         3.000000        5.000000   \n",
       "75%                 3.000000         3.000000        9.000000   \n",
       "max                 6.000000         4.000000       40.000000   \n",
       "\n",
       "       YearsInCurrentRole  YearsSinceLastPromotion  YearsWithCurrManager  \n",
       "count         1470.000000              1470.000000           1470.000000  \n",
       "mean             4.229252                 2.187755              4.123129  \n",
       "std              3.623137                 3.222430              3.568136  \n",
       "min              0.000000                 0.000000              0.000000  \n",
       "25%              2.000000                 0.000000              2.000000  \n",
       "50%              3.000000                 1.000000              3.000000  \n",
       "75%              7.000000                 3.000000              7.000000  \n",
       "max             18.000000                15.000000             17.000000  \n",
       "\n",
       "[8 rows x 23 columns]>"
      ]
     },
     "execution_count": 119,
     "metadata": {},
     "output_type": "execute_result"
    }
   ],
   "source": [
    "# 전체적인 데이터 분포 파악\n",
    "df.describe().transpose"
   ]
  },
  {
   "cell_type": "code",
   "execution_count": 120,
   "metadata": {},
   "outputs": [
    {
     "name": "stdout",
     "output_type": "stream",
     "text": [
      "Attrition\n",
      "No     1233\n",
      "Yes     237\n",
      "Name: count, dtype: int64\n",
      "----------------------------------------\n",
      "BusinessTravel\n",
      "Travel_Rarely        1043\n",
      "Travel_Frequently     277\n",
      "Non-Travel            150\n",
      "Name: count, dtype: int64\n",
      "----------------------------------------\n",
      "Department\n",
      "Research & Development    961\n",
      "Sales                     446\n",
      "Human Resources            63\n",
      "Name: count, dtype: int64\n",
      "----------------------------------------\n",
      "EducationField\n",
      "Life Sciences       606\n",
      "Medical             464\n",
      "Marketing           159\n",
      "Technical Degree    132\n",
      "Other                82\n",
      "Human Resources      27\n",
      "Name: count, dtype: int64\n",
      "----------------------------------------\n",
      "Gender\n",
      "Male      882\n",
      "Female    588\n",
      "Name: count, dtype: int64\n",
      "----------------------------------------\n",
      "JobRole\n",
      "Sales Executive              326\n",
      "Research Scientist           292\n",
      "Laboratory Technician        259\n",
      "Manufacturing Director       145\n",
      "Healthcare Representative    131\n",
      "Manager                      102\n",
      "Sales Representative          83\n",
      "Research Director             80\n",
      "Human Resources               52\n",
      "Name: count, dtype: int64\n",
      "----------------------------------------\n",
      "MaritalStatus\n",
      "Married     673\n",
      "Single      470\n",
      "Divorced    327\n",
      "Name: count, dtype: int64\n",
      "----------------------------------------\n",
      "OverTime\n",
      "No     1054\n",
      "Yes     416\n",
      "Name: count, dtype: int64\n",
      "----------------------------------------\n"
     ]
    }
   ],
   "source": [
    "# 데이터 분포 파악 - 범주형 변수들의 이상치 확인\n",
    "categorical_columns=[\"Attrition\", \"BusinessTravel\", \"Department\", \"EducationField\", \"Gender\", \"JobRole\", \"MaritalStatus\",\"OverTime\"] # 범주형 변수 목록\n",
    "for col in categorical_columns:\n",
    "    print(df[col].value_counts())\n",
    "    print(\"-\"*40 )"
   ]
  },
  {
   "cell_type": "code",
   "execution_count": 121,
   "metadata": {},
   "outputs": [
    {
     "data": {
      "image/png": "[encoded data removed]",
      "text/plain": [
       "<Figure size 1500x2000 with 23 Axes>"
      ]
     },
     "metadata": {},
     "output_type": "display_data"
    }
   ],
   "source": [
    "# 데이터 분포 파악 - 숫자형 변수들의 이상치 파악을 위한 박스플롯\n",
    "import matplotlib.pyplot as plt\n",
    "import seaborn as sns\n",
    "\n",
    "# 범주형 변수 리스트\n",
    "exclude_col = [\"Attrition\", \"BusinessTravel\", \"Department\", \"EducationField\", \"Gender\", \"JobRole\", \"MaritalStatus\", \"OverTime\"]\n",
    "\n",
    "# 나머지 변수들만\n",
    "numeric_col = [col for col in df.columns if col not in exclude_col]\n",
    "\n",
    "# 각 변수에 대한 박스플롯 그리기\n",
    "plt.figure(figsize=(15, 20))\n",
    "for i, col in enumerate(numeric_col, 1):\n",
    "    plt.subplot(len(numeric_col)//3 + 1, 3, i) \n",
    "    sns.boxplot(data=df, x=col)\n",
    "    plt.title(f\"Boxplot of {col}\")\n",
    "plt.tight_layout()\n",
    "plt.show()"
   ]
  },
  {
   "cell_type": "markdown",
   "metadata": {},
   "source": [
    "해당 박스플롯 확인 결과  \n",
    "'MonthlyIncome', 'NumCompaniesWorked', 'PerformanceRating',  \n",
    "'StockOptionLevel', 'TotalWorkingYears', 'TrainingTimesLastYear',  \n",
    "'YearsAtCompany', 'YearsInCurrentRole', 'YearsSinceLastPromotion', 'YearsWithCurrManager'  \n",
    "이 변수들의 이상치를 제거해야함."
   ]
  },
  {
   "cell_type": "code",
   "execution_count": 122,
   "metadata": {},
   "outputs": [],
   "source": [
    "# 숫자형 변수 이상치 제거\n",
    "outlier_col = [\n",
    "    'MonthlyIncome', 'NumCompaniesWorked', 'PerformanceRating', \n",
    "    'StockOptionLevel', 'TotalWorkingYears', 'TrainingTimesLastYear', \n",
    "    'YearsAtCompany', 'YearsInCurrentRole', 'YearsSinceLastPromotion', \n",
    "    'YearsWithCurrManager'\n",
    "]\n",
    "\n",
    "# IQR 방법을 사용하여 이상치 제거\n",
    "for col in outlier_col:\n",
    "    Q1 = df[col].quantile(0.25)  # 1사분위수\n",
    "    Q3 = df[col].quantile(0.75)  # 3사분위수\n",
    "    IQR = Q3 - Q1                # IQR 계산\n",
    "    lower_bound = Q1 - 1.5 * IQR  # 하한\n",
    "    upper_bound = Q3 + 1.5 * IQR  # 상한\n",
    "    # 범위를 벗어나는 값은 이상치로 간주하고 제거\n",
    "    df = df[(df[col] >= lower_bound) & (df[col] <= upper_bound)]\n"
   ]
  },
  {
   "cell_type": "markdown",
   "metadata": {},
   "source": [
    "범주형 변수들이 문자열로 구성되어 있으므로, 숫자로 바꾸어 분석에 사용해야함."
   ]
  },
  {
   "cell_type": "code",
   "execution_count": 123,
   "metadata": {},
   "outputs": [
    {
     "data": {
      "text/plain": [
       "2       1\n",
       "3       0\n",
       "5       0\n",
       "11      0\n",
       "12      0\n",
       "       ..\n",
       "1463    0\n",
       "1464    0\n",
       "1465    0\n",
       "1468    0\n",
       "1469    0\n",
       "Name: Attrition, Length: 699, dtype: int64"
      ]
     },
     "execution_count": 123,
     "metadata": {},
     "output_type": "execute_result"
    }
   ],
   "source": [
    "# 범주가 두 개인 변수들은 맵핑 이용#1\n",
    "df['Attrition'] = df['Attrition'].map({'Yes': 1, 'No': 0})\n",
    "df['Gender'] = df['Gender'].map({'Male': 1, 'Female': 0})\n",
    "df['Attrition']"
   ]
  },
  {
   "cell_type": "code",
   "execution_count": 124,
   "metadata": {},
   "outputs": [
    {
     "data": {
      "text/plain": [
       "2       1\n",
       "3       1\n",
       "5       0\n",
       "11      1\n",
       "12      0\n",
       "       ..\n",
       "1463    0\n",
       "1464    0\n",
       "1465    0\n",
       "1468    0\n",
       "1469    0\n",
       "Name: OverTime, Length: 699, dtype: int64"
      ]
     },
     "execution_count": 124,
     "metadata": {},
     "output_type": "execute_result"
    }
   ],
   "source": [
    "# 범주가 두 개인 변수들은 맵핑 이용#2\n",
    "df['OverTime'] = df['OverTime'].map({'Yes': 1, 'No': 0})\n",
    "df['OverTime']"
   ]
  },
  {
   "cell_type": "code",
   "execution_count": 125,
   "metadata": {},
   "outputs": [],
   "source": [
    "# 범주형 변수들의 변환\n",
    "df1 = pd.get_dummies(df, columns=['BusinessTravel', 'Department', 'EducationField', 'JobRole', 'MaritalStatus'], drop_first=True)"
   ]
  },
  {
   "cell_type": "code",
   "execution_count": 126,
   "metadata": {},
   "outputs": [
    {
     "name": "stdout",
     "output_type": "stream",
     "text": [
      "Age                                  0\n",
      "Attrition                            0\n",
      "DailyRate                            0\n",
      "DistanceFromHome                     0\n",
      "Education                            0\n",
      "EnvironmentSatisfaction              0\n",
      "Gender                               0\n",
      "HourlyRate                           0\n",
      "JobInvolvement                       0\n",
      "JobLevel                             0\n",
      "JobSatisfaction                      0\n",
      "MonthlyIncome                        0\n",
      "MonthlyRate                          0\n",
      "NumCompaniesWorked                   0\n",
      "OverTime                             0\n",
      "PercentSalaryHike                    0\n",
      "PerformanceRating                    0\n",
      "RelationshipSatisfaction             0\n",
      "StockOptionLevel                     0\n",
      "TotalWorkingYears                    0\n",
      "TrainingTimesLastYear                0\n",
      "WorkLifeBalance                      0\n",
      "YearsAtCompany                       0\n",
      "YearsInCurrentRole                   0\n",
      "YearsSinceLastPromotion              0\n",
      "YearsWithCurrManager                 0\n",
      "BusinessTravel_Travel_Frequently     0\n",
      "BusinessTravel_Travel_Rarely         0\n",
      "Department_Research & Development    0\n",
      "Department_Sales                     0\n",
      "EducationField_Life Sciences         0\n",
      "EducationField_Marketing             0\n",
      "EducationField_Medical               0\n",
      "EducationField_Other                 0\n",
      "EducationField_Technical Degree      0\n",
      "JobRole_Human Resources              0\n",
      "JobRole_Laboratory Technician        0\n",
      "JobRole_Manager                      0\n",
      "JobRole_Manufacturing Director       0\n",
      "JobRole_Research Director            0\n",
      "JobRole_Research Scientist           0\n",
      "JobRole_Sales Executive              0\n",
      "JobRole_Sales Representative         0\n",
      "MaritalStatus_Married                0\n",
      "MaritalStatus_Single                 0\n",
      "dtype: int64\n"
     ]
    }
   ],
   "source": [
    "# 결측치 확인\n",
    "print(df1.isna().sum())"
   ]
  },
  {
   "cell_type": "code",
   "execution_count": 127,
   "metadata": {},
   "outputs": [
    {
     "name": "stdout",
     "output_type": "stream",
     "text": [
      "중복 있음: False\n"
     ]
    }
   ],
   "source": [
    "# 중복 데이터 확인\n",
    "duplicates = df1[df1.duplicated()]  \n",
    "print(\"중복 있음:\", len(duplicates) != 0)"
   ]
  },
  {
   "cell_type": "code",
   "execution_count": 128,
   "metadata": {},
   "outputs": [
    {
     "name": "stdout",
     "output_type": "stream",
     "text": [
      "<class 'pandas.core.frame.DataFrame'>\n",
      "Index: 699 entries, 2 to 1469\n",
      "Data columns (total 45 columns):\n",
      " #   Column                             Non-Null Count  Dtype\n",
      "---  ------                             --------------  -----\n",
      " 0   Age                                699 non-null    int64\n",
      " 1   Attrition                          699 non-null    int64\n",
      " 2   DailyRate                          699 non-null    int64\n",
      " 3   DistanceFromHome                   699 non-null    int64\n",
      " 4   Education                          699 non-null    int64\n",
      " 5   EnvironmentSatisfaction            699 non-null    int64\n",
      " 6   Gender                             699 non-null    int64\n",
      " 7   HourlyRate                         699 non-null    int64\n",
      " 8   JobInvolvement                     699 non-null    int64\n",
      " 9   JobLevel                           699 non-null    int64\n",
      " 10  JobSatisfaction                    699 non-null    int64\n",
      " 11  MonthlyIncome                      699 non-null    int64\n",
      " 12  MonthlyRate                        699 non-null    int64\n",
      " 13  NumCompaniesWorked                 699 non-null    int64\n",
      " 14  OverTime                           699 non-null    int64\n",
      " 15  PercentSalaryHike                  699 non-null    int64\n",
      " 16  PerformanceRating                  699 non-null    int64\n",
      " 17  RelationshipSatisfaction           699 non-null    int64\n",
      " 18  StockOptionLevel                   699 non-null    int64\n",
      " 19  TotalWorkingYears                  699 non-null    int64\n",
      " 20  TrainingTimesLastYear              699 non-null    int64\n",
      " 21  WorkLifeBalance                    699 non-null    int64\n",
      " 22  YearsAtCompany                     699 non-null    int64\n",
      " 23  YearsInCurrentRole                 699 non-null    int64\n",
      " 24  YearsSinceLastPromotion            699 non-null    int64\n",
      " 25  YearsWithCurrManager               699 non-null    int64\n",
      " 26  BusinessTravel_Travel_Frequently   699 non-null    bool \n",
      " 27  BusinessTravel_Travel_Rarely       699 non-null    bool \n",
      " 28  Department_Research & Development  699 non-null    bool \n",
      " 29  Department_Sales                   699 non-null    bool \n",
      " 30  EducationField_Life Sciences       699 non-null    bool \n",
      " 31  EducationField_Marketing           699 non-null    bool \n",
      " 32  EducationField_Medical             699 non-null    bool \n",
      " 33  EducationField_Other               699 non-null    bool \n",
      " 34  EducationField_Technical Degree    699 non-null    bool \n",
      " 35  JobRole_Human Resources            699 non-null    bool \n",
      " 36  JobRole_Laboratory Technician      699 non-null    bool \n",
      " 37  JobRole_Manager                    699 non-null    bool \n",
      " 38  JobRole_Manufacturing Director     699 non-null    bool \n",
      " 39  JobRole_Research Director          699 non-null    bool \n",
      " 40  JobRole_Research Scientist         699 non-null    bool \n",
      " 41  JobRole_Sales Executive            699 non-null    bool \n",
      " 42  JobRole_Sales Representative       699 non-null    bool \n",
      " 43  MaritalStatus_Married              699 non-null    bool \n",
      " 44  MaritalStatus_Single               699 non-null    bool \n",
      "dtypes: bool(19), int64(26)\n",
      "memory usage: 160.4 KB\n"
     ]
    }
   ],
   "source": [
    "df1.info()"
   ]
  },
  {
   "cell_type": "code",
   "execution_count": 129,
   "metadata": {},
   "outputs": [
    {
     "data": {
      "text/html": [
       "<div>\n",
       "<style scoped>\n",
       "    .dataframe tbody tr th:only-of-type {\n",
       "        vertical-align: middle;\n",
       "    }\n",
       "\n",
       "    .dataframe tbody tr th {\n",
       "        vertical-align: top;\n",
       "    }\n",
       "\n",
       "    .dataframe thead th {\n",
       "        text-align: right;\n",
       "    }\n",
       "</style>\n",
       "<table border=\"1\" class=\"dataframe\">\n",
       "  <thead>\n",
       "    <tr style=\"text-align: right;\">\n",
       "      <th></th>\n",
       "      <th>Age</th>\n",
       "      <th>Attrition</th>\n",
       "      <th>DailyRate</th>\n",
       "      <th>DistanceFromHome</th>\n",
       "      <th>Education</th>\n",
       "      <th>EnvironmentSatisfaction</th>\n",
       "      <th>Gender</th>\n",
       "      <th>HourlyRate</th>\n",
       "      <th>JobInvolvement</th>\n",
       "      <th>JobLevel</th>\n",
       "      <th>...</th>\n",
       "      <th>JobRole_Human Resources</th>\n",
       "      <th>JobRole_Laboratory Technician</th>\n",
       "      <th>JobRole_Manager</th>\n",
       "      <th>JobRole_Manufacturing Director</th>\n",
       "      <th>JobRole_Research Director</th>\n",
       "      <th>JobRole_Research Scientist</th>\n",
       "      <th>JobRole_Sales Executive</th>\n",
       "      <th>JobRole_Sales Representative</th>\n",
       "      <th>MaritalStatus_Married</th>\n",
       "      <th>MaritalStatus_Single</th>\n",
       "    </tr>\n",
       "  </thead>\n",
       "  <tbody>\n",
       "    <tr>\n",
       "      <th>2</th>\n",
       "      <td>0.249333</td>\n",
       "      <td>1</td>\n",
       "      <td>1.417611</td>\n",
       "      <td>-0.902656</td>\n",
       "      <td>-0.836379</td>\n",
       "      <td>1.171468</td>\n",
       "      <td>1</td>\n",
       "      <td>1.274549</td>\n",
       "      <td>-1.028080</td>\n",
       "      <td>-0.960599</td>\n",
       "      <td>...</td>\n",
       "      <td>False</td>\n",
       "      <td>True</td>\n",
       "      <td>False</td>\n",
       "      <td>False</td>\n",
       "      <td>False</td>\n",
       "      <td>False</td>\n",
       "      <td>False</td>\n",
       "      <td>False</td>\n",
       "      <td>False</td>\n",
       "      <td>True</td>\n",
       "    </tr>\n",
       "    <tr>\n",
       "      <th>3</th>\n",
       "      <td>-0.224586</td>\n",
       "      <td>0</td>\n",
       "      <td>1.465259</td>\n",
       "      <td>-0.780141</td>\n",
       "      <td>1.099478</td>\n",
       "      <td>1.171468</td>\n",
       "      <td>0</td>\n",
       "      <td>-0.486336</td>\n",
       "      <td>0.378237</td>\n",
       "      <td>-0.960599</td>\n",
       "      <td>...</td>\n",
       "      <td>False</td>\n",
       "      <td>False</td>\n",
       "      <td>False</td>\n",
       "      <td>False</td>\n",
       "      <td>False</td>\n",
       "      <td>True</td>\n",
       "      <td>False</td>\n",
       "      <td>False</td>\n",
       "      <td>True</td>\n",
       "      <td>False</td>\n",
       "    </tr>\n",
       "    <tr>\n",
       "      <th>5</th>\n",
       "      <td>-0.343066</td>\n",
       "      <td>0</td>\n",
       "      <td>0.494759</td>\n",
       "      <td>-0.902656</td>\n",
       "      <td>-0.836379</td>\n",
       "      <td>1.171468</td>\n",
       "      <td>1</td>\n",
       "      <td>0.638674</td>\n",
       "      <td>0.378237</td>\n",
       "      <td>-0.960599</td>\n",
       "      <td>...</td>\n",
       "      <td>False</td>\n",
       "      <td>True</td>\n",
       "      <td>False</td>\n",
       "      <td>False</td>\n",
       "      <td>False</td>\n",
       "      <td>False</td>\n",
       "      <td>False</td>\n",
       "      <td>False</td>\n",
       "      <td>False</td>\n",
       "      <td>True</td>\n",
       "    </tr>\n",
       "  </tbody>\n",
       "</table>\n",
       "<p>3 rows × 45 columns</p>\n",
       "</div>"
      ],
      "text/plain": [
       "        Age  Attrition  DailyRate  DistanceFromHome  Education  \\\n",
       "2  0.249333          1   1.417611         -0.902656  -0.836379   \n",
       "3 -0.224586          0   1.465259         -0.780141   1.099478   \n",
       "5 -0.343066          0   0.494759         -0.902656  -0.836379   \n",
       "\n",
       "   EnvironmentSatisfaction  Gender  HourlyRate  JobInvolvement  JobLevel  ...  \\\n",
       "2                 1.171468       1    1.274549       -1.028080 -0.960599  ...   \n",
       "3                 1.171468       0   -0.486336        0.378237 -0.960599  ...   \n",
       "5                 1.171468       1    0.638674        0.378237 -0.960599  ...   \n",
       "\n",
       "   JobRole_Human Resources  JobRole_Laboratory Technician  JobRole_Manager  \\\n",
       "2                    False                           True            False   \n",
       "3                    False                          False            False   \n",
       "5                    False                           True            False   \n",
       "\n",
       "   JobRole_Manufacturing Director  JobRole_Research Director  \\\n",
       "2                           False                      False   \n",
       "3                           False                      False   \n",
       "5                           False                      False   \n",
       "\n",
       "   JobRole_Research Scientist  JobRole_Sales Executive  \\\n",
       "2                       False                    False   \n",
       "3                        True                    False   \n",
       "5                       False                    False   \n",
       "\n",
       "   JobRole_Sales Representative  MaritalStatus_Married  MaritalStatus_Single  \n",
       "2                         False                  False                  True  \n",
       "3                         False                   True                 False  \n",
       "5                         False                  False                  True  \n",
       "\n",
       "[3 rows x 45 columns]"
      ]
     },
     "execution_count": 129,
     "metadata": {},
     "output_type": "execute_result"
    }
   ],
   "source": [
    "# 숫자형 변수들에 대해 데이터 스케일링 진행\n",
    "scaler = StandardScaler()\n",
    "df1[numeric_col] = scaler.fit_transform(df[numeric_col])\n",
    "df1.head(3)"
   ]
  },
  {
   "cell_type": "code",
   "execution_count": 130,
   "metadata": {},
   "outputs": [],
   "source": [
    "X = df1.drop(columns=['Attrition'])  # 종속 변수 'Attrition'을 제외하고 독립 변수만 선택\n",
    "X = X.apply(lambda col: col.astype(int) if col.dtype == 'bool' else col)  # bool 타입을 int로 변환\n",
    "X = X.apply(pd.to_numeric, errors='coerce')  # 모든 값을 숫자형으로 변환하며 변환할 수 없는 값은 NaN으로 설정\n",
    "X = X.dropna(axis=1, how='any')  # NaN이 포함된 열을 제거\n",
    "\n",
    "y = df1['Attrition']  # 종속 변수\n"
   ]
  },
  {
   "cell_type": "code",
   "execution_count": 131,
   "metadata": {},
   "outputs": [
    {
     "name": "stdout",
     "output_type": "stream",
     "text": [
      "                             variable         VIF\n",
      "0                                 Age    1.699571\n",
      "1                           DailyRate    1.073417\n",
      "2                    DistanceFromHome    1.074924\n",
      "3                           Education    1.155876\n",
      "4             EnvironmentSatisfaction    1.079725\n",
      "5                              Gender    1.068290\n",
      "6                          HourlyRate    1.048575\n",
      "7                      JobInvolvement    1.064756\n",
      "8                            JobLevel    6.509323\n",
      "9                     JobSatisfaction    1.074029\n",
      "10                      MonthlyIncome    6.302320\n",
      "11                        MonthlyRate    1.051188\n",
      "12                 NumCompaniesWorked    1.404976\n",
      "13                           OverTime    1.073762\n",
      "14                  PercentSalaryHike    1.095148\n",
      "15                  PerformanceRating         NaN\n",
      "16           RelationshipSatisfaction    1.061856\n",
      "17                   StockOptionLevel    2.357309\n",
      "18                  TotalWorkingYears    2.843335\n",
      "19              TrainingTimesLastYear    1.076855\n",
      "20                    WorkLifeBalance    1.070940\n",
      "21                     YearsAtCompany    6.783967\n",
      "22                 YearsInCurrentRole    3.973824\n",
      "23            YearsSinceLastPromotion    1.265442\n",
      "24               YearsWithCurrManager    3.411917\n",
      "25   BusinessTravel_Travel_Frequently    2.601610\n",
      "26       BusinessTravel_Travel_Rarely    2.529969\n",
      "27  Department_Research & Development   79.292231\n",
      "28                   Department_Sales  241.678026\n",
      "29       EducationField_Life Sciences   23.454916\n",
      "30           EducationField_Marketing   11.895341\n",
      "31             EducationField_Medical   19.182089\n",
      "32               EducationField_Other    6.256490\n",
      "33    EducationField_Technical Degree    9.666999\n",
      "34            JobRole_Human Resources    3.241229\n",
      "35      JobRole_Laboratory Technician    3.824947\n",
      "36                    JobRole_Manager    2.034189\n",
      "37     JobRole_Manufacturing Director    1.995252\n",
      "38          JobRole_Research Director    1.791866\n",
      "39         JobRole_Research Scientist    4.286189\n",
      "40            JobRole_Sales Executive  114.443682\n",
      "41       JobRole_Sales Representative   48.850742\n",
      "42              MaritalStatus_Married    2.155588\n",
      "43               MaritalStatus_Single    3.879385\n"
     ]
    },
    {
     "name": "stderr",
     "output_type": "stream",
     "text": [
      "c:\\Users\\hjo40\\anaconda3\\Lib\\site-packages\\statsmodels\\regression\\linear_model.py:1783: RuntimeWarning: invalid value encountered in scalar divide\n",
      "  return 1 - self.ssr/self.centered_tss\n"
     ]
    }
   ],
   "source": [
    "# 다중공선성 파악\n",
    "# VIF계산\n",
    "def calculate_vif(X):\n",
    "    vif = pd.DataFrame()\n",
    "    vif[\"variable\"] = X.columns\n",
    "    vif[\"VIF\"] = [variance_inflation_factor(X.values, i) for i in range(X.shape[1])]\n",
    "    return vif\n",
    "\n",
    "# VIF 값 계산 및 출력\n",
    "vif_df = calculate_vif(X)\n",
    "print(vif_df)"
   ]
  },
  {
   "cell_type": "markdown",
   "metadata": {},
   "source": [
    "VIF가 10이상인 변수들은 다중공선성 문제가 의심되므로 제거"
   ]
  },
  {
   "cell_type": "code",
   "execution_count": 132,
   "metadata": {},
   "outputs": [
    {
     "name": "stderr",
     "output_type": "stream",
     "text": [
      "c:\\Users\\hjo40\\anaconda3\\Lib\\site-packages\\statsmodels\\regression\\linear_model.py:1783: RuntimeWarning: invalid value encountered in scalar divide\n",
      "  return 1 - self.ssr/self.centered_tss\n"
     ]
    },
    {
     "name": "stdout",
     "output_type": "stream",
     "text": [
      "Removing Department_Sales with VIF nan\n"
     ]
    },
    {
     "name": "stderr",
     "output_type": "stream",
     "text": [
      "c:\\Users\\hjo40\\anaconda3\\Lib\\site-packages\\statsmodels\\regression\\linear_model.py:1785: RuntimeWarning: invalid value encountered in scalar divide\n",
      "  return 1 - self.ssr/self.uncentered_tss\n"
     ]
    },
    {
     "name": "stdout",
     "output_type": "stream",
     "text": [
      "Removing Department_Research & Development with VIF nan\n",
      "Removing EducationField_Life Sciences with VIF nan\n"
     ]
    },
    {
     "name": "stderr",
     "output_type": "stream",
     "text": [
      "c:\\Users\\hjo40\\anaconda3\\Lib\\site-packages\\statsmodels\\regression\\linear_model.py:1785: RuntimeWarning: invalid value encountered in scalar divide\n",
      "  return 1 - self.ssr/self.uncentered_tss\n",
      "c:\\Users\\hjo40\\anaconda3\\Lib\\site-packages\\statsmodels\\regression\\linear_model.py:1785: RuntimeWarning: invalid value encountered in scalar divide\n",
      "  return 1 - self.ssr/self.uncentered_tss\n"
     ]
    },
    {
     "name": "stdout",
     "output_type": "stream",
     "text": [
      "Removing PerformanceRating with VIF nan\n",
      "                            variable       VIF\n",
      "0                                Age  1.685143\n",
      "1                          DailyRate  1.070466\n",
      "2                   DistanceFromHome  1.074126\n",
      "3                          Education  1.154303\n",
      "4            EnvironmentSatisfaction  1.078981\n",
      "5                             Gender  2.622372\n",
      "6                         HourlyRate  1.044099\n",
      "7                     JobInvolvement  1.063617\n",
      "8                           JobLevel  6.251496\n",
      "9                    JobSatisfaction  1.069772\n",
      "10                     MonthlyIncome  6.293607\n",
      "11                       MonthlyRate  1.047351\n",
      "12                NumCompaniesWorked  1.403525\n",
      "13                          OverTime  1.459052\n",
      "14                 PercentSalaryHike  1.086341\n",
      "15          RelationshipSatisfaction  1.056898\n",
      "16                  StockOptionLevel  2.209215\n",
      "17                 TotalWorkingYears  2.840996\n",
      "18             TrainingTimesLastYear  1.068450\n",
      "19                   WorkLifeBalance  1.070217\n",
      "20                    YearsAtCompany  6.758791\n",
      "21                YearsInCurrentRole  3.933180\n",
      "22           YearsSinceLastPromotion  1.262726\n",
      "23              YearsWithCurrManager  3.402221\n",
      "24  BusinessTravel_Travel_Frequently  2.632845\n",
      "25      BusinessTravel_Travel_Rarely  6.501558\n",
      "26          EducationField_Marketing  1.846729\n",
      "27            EducationField_Medical  1.666272\n",
      "28              EducationField_Other  1.192700\n",
      "29   EducationField_Technical Degree  1.306772\n",
      "30           JobRole_Human Resources  1.476994\n",
      "31     JobRole_Laboratory Technician  3.560597\n",
      "32                   JobRole_Manager  1.302650\n",
      "33    JobRole_Manufacturing Director  1.862115\n",
      "34         JobRole_Research Director  1.758034\n",
      "35        JobRole_Research Scientist  3.944275\n",
      "36           JobRole_Sales Executive  3.537856\n",
      "37      JobRole_Sales Representative  2.487896\n",
      "38             MaritalStatus_Married  3.284612\n",
      "39              MaritalStatus_Single  5.149373\n"
     ]
    }
   ],
   "source": [
    "# VIF가 NaN이거나 특정 기준 이상인 변수 제거 반복\n",
    "def remove_high_vif_columns(X, threshold=10):\n",
    "    while True:\n",
    "        vif_df = calculate_vif(X)\n",
    "        \n",
    "        # VIF가 NaN이거나 기준 이상인 변수 확인\n",
    "        high_vif = vif_df[(vif_df['VIF'].isna()) | (vif_df['VIF'] >= threshold)]\n",
    "        \n",
    "        # 기준에 해당하는 변수가 없으면 반복 종료\n",
    "        if high_vif.empty:\n",
    "            break\n",
    "        \n",
    "        # 제거할 변수 선택 (VIF가 가장 높은 변수)\n",
    "        remove_column = high_vif.sort_values('VIF', ascending=False).iloc[0]['variable']\n",
    "        print(f\"Removing {remove_column} with VIF {high_vif.iloc[0]['VIF']}\")\n",
    "        X = X.drop(columns=[remove_column])\n",
    "    \n",
    "    return X\n",
    "\n",
    "# VIF가 NaN이거나 10 이상인 변수 제거 후 남은 변수들\n",
    "X_cleaned = remove_high_vif_columns(X, threshold=10)\n",
    "print(calculate_vif(X_cleaned))"
   ]
  },
  {
   "cell_type": "code",
   "execution_count": 133,
   "metadata": {},
   "outputs": [
    {
     "name": "stdout",
     "output_type": "stream",
     "text": [
      "Warning: Maximum number of iterations has been exceeded.\n",
      "         Current function value: 0.307174\n",
      "         Iterations: 35\n",
      "                           Logit Regression Results                           \n",
      "==============================================================================\n",
      "Dep. Variable:              Attrition   No. Observations:                  699\n",
      "Model:                          Logit   Df Residuals:                      659\n",
      "Method:                           MLE   Df Model:                           39\n",
      "Date:                Sun, 03 Nov 2024   Pseudo R-squ.:                  0.3366\n",
      "Time:                        11:22:42   Log-Likelihood:                -214.71\n",
      "converged:                      False   LL-Null:                       -323.64\n",
      "Covariance Type:            nonrobust   LLR p-value:                 1.043e-26\n",
      "====================================================================================================\n",
      "                                       coef    std err          z      P>|z|      [0.025      0.975]\n",
      "----------------------------------------------------------------------------------------------------\n",
      "Age                                 -0.3469      0.160     -2.167      0.030      -0.661      -0.033\n",
      "DailyRate                           -0.0428      0.125     -0.343      0.732      -0.287       0.202\n",
      "DistanceFromHome                     0.4603      0.130      3.553      0.000       0.206       0.714\n",
      "Education                            0.1470      0.133      1.109      0.267      -0.113       0.407\n",
      "EnvironmentSatisfaction             -0.4615      0.127     -3.639      0.000      -0.710      -0.213\n",
      "Gender                              -0.0562      0.254     -0.221      0.825      -0.554       0.441\n",
      "HourlyRate                           0.1464      0.129      1.135      0.256      -0.106       0.399\n",
      "JobInvolvement                      -0.4068      0.123     -3.306      0.001      -0.648      -0.166\n",
      "JobLevel                            -0.2911      0.358     -0.814      0.416      -0.992       0.410\n",
      "JobSatisfaction                     -0.5040      0.132     -3.827      0.000      -0.762      -0.246\n",
      "MonthlyIncome                       -0.3650      0.339     -1.078      0.281      -1.029       0.299\n",
      "MonthlyRate                          0.1427      0.129      1.109      0.267      -0.109       0.395\n",
      "NumCompaniesWorked                   0.3963      0.145      2.739      0.006       0.113       0.680\n",
      "OverTime                             1.5282      0.275      5.554      0.000       0.989       2.067\n",
      "PercentSalaryHike                   -0.1762      0.136     -1.293      0.196      -0.443       0.091\n",
      "RelationshipSatisfaction            -0.2841      0.129     -2.204      0.028      -0.537      -0.031\n",
      "StockOptionLevel                    -1.0967      0.225     -4.865      0.000      -1.539      -0.655\n",
      "TotalWorkingYears                   -0.4176      0.216     -1.937      0.053      -0.840       0.005\n",
      "TrainingTimesLastYear                0.2065      0.130      1.590      0.112      -0.048       0.461\n",
      "WorkLifeBalance                     -0.3277      0.125     -2.620      0.009      -0.573      -0.083\n",
      "YearsAtCompany                       0.0155      0.379      0.041      0.967      -0.728       0.759\n",
      "YearsInCurrentRole                  -0.3069      0.294     -1.046      0.296      -0.882       0.268\n",
      "YearsSinceLastPromotion             -0.0745      0.170     -0.439      0.661      -0.407       0.258\n",
      "YearsWithCurrManager                -0.2088      0.266     -0.786      0.432      -0.730       0.312\n",
      "BusinessTravel_Travel_Frequently     0.5972      0.440      1.357      0.175      -0.265       1.460\n",
      "BusinessTravel_Travel_Rarely        -0.7152      0.368     -1.942      0.052      -1.437       0.007\n",
      "EducationField_Marketing             0.1461      0.458      0.319      0.750      -0.751       1.044\n",
      "EducationField_Medical              -0.5594      0.313     -1.788      0.074      -1.173       0.054\n",
      "EducationField_Other                -0.8759      0.564     -1.553      0.120      -1.981       0.230\n",
      "EducationField_Technical Degree      0.6590      0.433      1.521      0.128      -0.190       1.508\n",
      "JobRole_Human Resources             -1.3327      0.716     -1.861      0.063      -2.736       0.071\n",
      "JobRole_Laboratory Technician       -0.9417      0.533     -1.768      0.077      -1.986       0.102\n",
      "JobRole_Manager                    -22.4162   2.22e+05     -0.000      1.000   -4.35e+05    4.35e+05\n",
      "JobRole_Manufacturing Director      -0.8136      0.615     -1.322      0.186      -2.020       0.393\n",
      "JobRole_Research Director          -22.9989   1.08e+05     -0.000      1.000   -2.12e+05    2.12e+05\n",
      "JobRole_Research Scientist          -2.4433      0.551     -4.435      0.000      -3.523      -1.364\n",
      "JobRole_Sales Executive             -0.9349      0.465     -2.012      0.044      -1.845      -0.024\n",
      "JobRole_Sales Representative        -0.7361      0.634     -1.162      0.245      -1.978       0.506\n",
      "MaritalStatus_Married               -1.4276      0.365     -3.913      0.000      -2.143      -0.713\n",
      "MaritalStatus_Single                -1.4925      0.465     -3.211      0.001      -2.404      -0.581\n",
      "====================================================================================================\n"
     ]
    },
    {
     "name": "stderr",
     "output_type": "stream",
     "text": [
      "c:\\Users\\hjo40\\anaconda3\\Lib\\site-packages\\statsmodels\\base\\model.py:607: ConvergenceWarning: Maximum Likelihood optimization failed to converge. Check mle_retvals\n",
      "  warnings.warn(\"Maximum Likelihood optimization failed to \"\n"
     ]
    }
   ],
   "source": [
    "# 로지스틱 회귀 모델 학습\n",
    "model = sm.Logit(y, X_cleaned)\n",
    "result = model.fit()\n",
    "\n",
    "# 결과 출력\n",
    "print(result.summary())"
   ]
  },
  {
   "cell_type": "markdown",
   "metadata": {},
   "source": [
    "p-value 값이 0.05이상인 변수는 제거"
   ]
  },
  {
   "cell_type": "code",
   "execution_count": 134,
   "metadata": {},
   "outputs": [
    {
     "name": "stdout",
     "output_type": "stream",
     "text": [
      "Warning: Maximum number of iterations has been exceeded.\n",
      "         Current function value: 0.307324\n",
      "         Iterations: 35\n",
      "Optimization terminated successfully.\n",
      "         Current function value: 0.308209\n",
      "         Iterations 8\n",
      "Optimization terminated successfully.\n",
      "         Current function value: 0.308218\n",
      "         Iterations 8\n",
      "Optimization terminated successfully.\n",
      "         Current function value: 0.308246\n",
      "         Iterations 8\n",
      "Optimization terminated successfully.\n",
      "         Current function value: 0.308319\n",
      "         Iterations 8\n",
      "Optimization terminated successfully.\n",
      "         Current function value: 0.308409\n",
      "         Iterations 8\n",
      "Optimization terminated successfully.\n",
      "         Current function value: 0.308519\n",
      "         Iterations 8\n"
     ]
    },
    {
     "name": "stderr",
     "output_type": "stream",
     "text": [
      "c:\\Users\\hjo40\\anaconda3\\Lib\\site-packages\\statsmodels\\base\\model.py:607: ConvergenceWarning: Maximum Likelihood optimization failed to converge. Check mle_retvals\n",
      "  warnings.warn(\"Maximum Likelihood optimization failed to \"\n"
     ]
    },
    {
     "name": "stdout",
     "output_type": "stream",
     "text": [
      "Optimization terminated successfully.\n",
      "         Current function value: 0.309035\n",
      "         Iterations 8\n",
      "Optimization terminated successfully.\n",
      "         Current function value: 0.309799\n",
      "         Iterations 8\n",
      "Optimization terminated successfully.\n",
      "         Current function value: 0.310684\n",
      "         Iterations 8\n",
      "Optimization terminated successfully.\n",
      "         Current function value: 0.311574\n",
      "         Iterations 8\n",
      "Optimization terminated successfully.\n",
      "         Current function value: 0.312280\n",
      "         Iterations 8\n",
      "Optimization terminated successfully.\n",
      "         Current function value: 0.313169\n",
      "         Iterations 8\n",
      "Optimization terminated successfully.\n",
      "         Current function value: 0.313990\n",
      "         Iterations 8\n",
      "Optimization terminated successfully.\n",
      "         Current function value: 0.314962\n",
      "         Iterations 8\n",
      "Optimization terminated successfully.\n",
      "         Current function value: 0.315946\n",
      "         Iterations 8\n",
      "Optimization terminated successfully.\n",
      "         Current function value: 0.316867\n",
      "         Iterations 8\n",
      "Optimization terminated successfully.\n",
      "         Current function value: 0.317892\n",
      "         Iterations 7\n",
      "Optimization terminated successfully.\n",
      "         Current function value: 0.319030\n",
      "         Iterations 7\n",
      "Optimization terminated successfully.\n",
      "         Current function value: 0.320275\n",
      "         Iterations 7\n",
      "Optimization terminated successfully.\n",
      "         Current function value: 0.322749\n",
      "         Iterations 7\n",
      "최종 회귀 결과:\n",
      "                           Logit Regression Results                           \n",
      "==============================================================================\n",
      "Dep. Variable:              Attrition   No. Observations:                  699\n",
      "Model:                          Logit   Df Residuals:                      680\n",
      "Method:                           MLE   Df Model:                           18\n",
      "Date:                Sun, 03 Nov 2024   Pseudo R-squ.:                  0.3029\n",
      "Time:                        11:22:43   Log-Likelihood:                -225.60\n",
      "converged:                       True   LL-Null:                       -323.64\n",
      "Covariance Type:            nonrobust   LLR p-value:                 6.087e-32\n",
      "================================================================================================\n",
      "                                   coef    std err          z      P>|z|      [0.025      0.975]\n",
      "------------------------------------------------------------------------------------------------\n",
      "Age                             -0.3031      0.148     -2.041      0.041      -0.594      -0.012\n",
      "DistanceFromHome                 0.4190      0.123      3.413      0.001       0.178       0.660\n",
      "EnvironmentSatisfaction         -0.4535      0.122     -3.722      0.000      -0.692      -0.215\n",
      "JobInvolvement                  -0.3556      0.117     -3.029      0.002      -0.586      -0.126\n",
      "JobSatisfaction                 -0.5152      0.125     -4.116      0.000      -0.761      -0.270\n",
      "MonthlyIncome                   -0.5812      0.191     -3.037      0.002      -0.956      -0.206\n",
      "NumCompaniesWorked               0.4268      0.131      3.250      0.001       0.169       0.684\n",
      "OverTime                         1.4708      0.258      5.700      0.000       0.965       1.976\n",
      "RelationshipSatisfaction        -0.3107      0.123     -2.517      0.012      -0.553      -0.069\n",
      "StockOptionLevel                -1.1637      0.201     -5.798      0.000      -1.557      -0.770\n",
      "TotalWorkingYears               -0.5090      0.197     -2.584      0.010      -0.895      -0.123\n",
      "WorkLifeBalance                 -0.3193      0.118     -2.713      0.007      -0.550      -0.089\n",
      "YearsInCurrentRole              -0.3529      0.165     -2.143      0.032      -0.676      -0.030\n",
      "BusinessTravel_Travel_Rarely    -1.1550      0.234     -4.932      0.000      -1.614      -0.696\n",
      "EducationField_Medical          -0.7379      0.280     -2.634      0.008      -1.287      -0.189\n",
      "EducationField_Other            -1.0639      0.523     -2.034      0.042      -2.089      -0.039\n",
      "JobRole_Research Scientist      -1.5604      0.337     -4.627      0.000      -2.221      -0.899\n",
      "MaritalStatus_Married           -1.6492      0.270     -6.097      0.000      -2.179      -1.119\n",
      "MaritalStatus_Single            -1.7412      0.331     -5.264      0.000      -2.390      -1.093\n",
      "================================================================================================\n"
     ]
    }
   ],
   "source": [
    "# p-value가 0.05 이상인 변수 제거\n",
    "while True:\n",
    "    # p-value가 0.05 이상인 변수 확인\n",
    "    p_values = result.pvalues\n",
    "    high_p_value = p_values[p_values > 0.05]\n",
    "    \n",
    "    # 기각할 변수가 없으면 종료\n",
    "    if high_p_value.empty:\n",
    "        break\n",
    "    \n",
    "    # p-value가 가장 높은 변수 제거\n",
    "    remove_column = high_p_value.idxmax()  # 가장 높은 p-value 변수 선택\n",
    "    \n",
    "    \n",
    "    # 해당 변수 제거\n",
    "    X_cleaned = X_cleaned.drop(columns=[remove_column])\n",
    "    \n",
    "    # 모델 재학습\n",
    "    model = sm.Logit(y, X_cleaned)\n",
    "    result = model.fit()\n",
    "\n",
    "# 최종 결과 출력\n",
    "print(\"최종 회귀 결과:\")\n",
    "print(result.summary())"
   ]
  },
  {
   "cell_type": "markdown",
   "metadata": {},
   "source": [
    "![대체 텍스트](aa.png)  \n",
    "통계적으로 유의미한 변수들만 남긴 결과 위의 결과를 토대로 퇴사 확률에 가장 많은 영향을 미치는 변수는 MaritalStatus_Single이며,  \n",
    "Age (-0.3031): 나이가 1세 증가할 때, Attrition 확률이 약 30.31% 감소. 즉, 나이가 많은 직원이 퇴사할 가능성이 적다는 것을 의미  \n",
    "DistanceFromHome (0.4190): 집에서 직장까지의 거리가 1단위(예: 1마일) 증가할 때 Attrition 확률이 약 41.90% 증가. 이는 거리 증가가 퇴사 가능성을 높이는 요인임을 나타냄.  \n",
    "EnvironmentSatisfaction (-0.4535): 환경 만족도가 1단계 증가할 때 Attrition 확률이 약 45.35% 감소. 즉, 근무 환경에 대한 만족도가 높을수록 퇴사가능성이 낮아짐.  \n",
    "JobInvolvement (-0.3556): 직무 몰입도가 1단계 증가할 때 Attrition 확률이 약 35.56% 감소. 직무에 몰입한 직원은 퇴사할 가능성이 적어짐.  \n",
    "JobSatisfaction (-0.5152): 직무 만족도가 1단계 증가할 때 Attrition 확률이 약 51.52% 감소. 직무에 대한 만족도가 높을수록 퇴사 가능성이 낮아진다는 것을 나타냅니다.  \n",
    "MonthlyIncome (-0.5812): 월급이 1단위 증가할 때 Attrition 확률이 약 58.12% 감소. 더 높은 소득을 받는 직원이 퇴사할 가능성이 적다는 것을 의미.  \n",
    "NumCompaniesWorked (0.4268): 이전에 근무했던 회사 수가 1개 증가할 때 Attrition 확률이 약 42.68% 증가. 이전에 여러 회사를 다닌 경험이 있는 직원이 퇴사할 가능성이 높음.  \n",
    "OverTime (1.4708): 초과 근무를 하는 경우(1로 표시될 때) Attrition 확률이 약 147.08% 증가. 초과 근무가 많은 직원이 퇴사할 가능성이 높음을 나타냄.  \n",
    "RelationshipSatisfaction (-0.3107): 관계 만족도가 1단계 증가할 때 Attrition 확률이 약 31.07% 감소. 대인 관계에 대한 만족도가 높을수록 퇴사 가능성이 낮음.  \n",
    "StockOptionLevel (-1.1637): 주식 옵션 수준이 1단계 증가할 때 Attrition 확률이 약 116.37% 감소. 주식 옵션의 제공이 퇴사 가능성을 줄이는 요인으로 작용.  \n",
    "TotalWorkingYears (-0.5090): 총 근무 년수가 1년 증가할 때 Attrition 확률이 약 50.90% 감소. 경력이 많은 직원이 퇴사할 가능성이 낮다는 것을 나타냄.  \n",
    "WorkLifeBalance (-0.3193): 직장과 개인 생활의 균형 점수가 1단계 증가할 때 Attrition 확률이 약 31.93% 감소. 더 나은 일과 삶의 균형을 유지하는 직원이 퇴사할 가능성이 낮음.  \n",
    "YearsInCurrentRole (-0.3529): 현재 역할에서의 경력이 1년 증가할 때 Attrition 확률이 약 35.29% 감소. 현재 직무에서 오래 일한 직원이 퇴사할 가능성이 낮음.  \n",
    "BusinessTravel_Travel_Rarely (-1.1550): 드물게 출장하는 경우 Attrition 확률이 약 115.50% 감소. 출장 빈도가 낮은 직원이 퇴사할 가능성이 적음.  \n",
    "EducationField_Medical (-0.7379): 의학 분야에서 일하는 경우 Attrition 확률이 약 73.79% 감소. 의학 분야 종사자가 퇴사할 가능성이 낮다는 것을 나타냄.  \n",
    "EducationField_Other (-1.0639): 기타 분야에서 일하는 경우 Attrition 확률이 약 106.39% 감소. 기타 분야에서 일하는 직원이 퇴사할 가능성이 적음.  \n",
    "JobRole_Research Scientist (-1.5604): 연구 과학자 직무를 가진 경우 Attrition 확률이 약 156.04% 감소. 이 직무에서 근무하는 직원의 퇴사 가능성이 낮음.  \n",
    "MaritalStatus_Married (-1.6492): 기혼 상태인 경우 Attrition 확률이 약 164.92% 감소. 기혼 직원의 퇴사 가능성이 낮다는 것을 나타냄.  \n",
    "MaritalStatus_Single (-1.7412): 독신 상태인 경우 Attrition 확률이 약 174.12% 감소. 독신 직원의 퇴사 가능성이 낮음.  "
   ]
  },
  {
   "cell_type": "markdown",
   "metadata": {},
   "source": [
    "통계적으로 유의하지 않은 변수들은 제거하고 모델을 구축하여 성능을 평가해보고, 제거하지 않은 변수들을 가지고 만든 모델과 성능을 비교해볼 것임.\n",
    "이때, 클래스의 비율이 1:1이 아닌 불균형인 형태이므로 손실함수에 가중치를 주어서 모델을 만들 것 임.  \n",
    "\n",
    "----"
   ]
  },
  {
   "cell_type": "markdown",
   "metadata": {},
   "source": [
    "## 로지스틱 회귀 모델 구축"
   ]
  },
  {
   "cell_type": "code",
   "execution_count": 135,
   "metadata": {},
   "outputs": [
    {
     "name": "stdout",
     "output_type": "stream",
     "text": [
      "Accuracy: 0.7333333333333333\n",
      "\n",
      "Classification Report:\n",
      "               precision    recall  f1-score   support\n",
      "\n",
      "           0       0.92      0.75      0.83       178\n",
      "           1       0.32      0.66      0.43        32\n",
      "\n",
      "    accuracy                           0.73       210\n",
      "   macro avg       0.62      0.70      0.63       210\n",
      "weighted avg       0.83      0.73      0.77       210\n",
      "\n"
     ]
    }
   ],
   "source": [
    "# 변수를 제거한 로지스틱 회귀 모델 구축\n",
    "# 데이터 분할 (훈련 및 테스트 세트)\n",
    "X_train, X_test, y_train, y_test = train_test_split(X_cleaned, y, test_size=0.3, random_state=42)\n",
    "\n",
    "# 로지스틱 회귀 모델 학습\n",
    "model = LogisticRegression(class_weight='balanced',max_iter=1000)\n",
    "model.fit(X_train, y_train)\n",
    "\n",
    "# 예측 및 성능 평가\n",
    "y_pred = model.predict(X_test)\n",
    "print(\"Accuracy:\", accuracy_score(y_test, y_pred))\n",
    "print(\"\\nClassification Report:\\n\", classification_report(y_test, y_pred))"
   ]
  },
  {
   "cell_type": "code",
   "execution_count": 136,
   "metadata": {},
   "outputs": [
    {
     "name": "stdout",
     "output_type": "stream",
     "text": [
      "Accuracy: 0.7333333333333333\n",
      "\n",
      "Classification Report:\n",
      "               precision    recall  f1-score   support\n",
      "\n",
      "           0       0.92      0.75      0.83       178\n",
      "           1       0.31      0.62      0.42        32\n",
      "\n",
      "    accuracy                           0.73       210\n",
      "   macro avg       0.62      0.69      0.62       210\n",
      "weighted avg       0.83      0.73      0.76       210\n",
      "\n"
     ]
    }
   ],
   "source": [
    "# 변수를 제거하지 않은 로지스틱 회귀 모델 구축\n",
    "# 데이터 분할 (훈련 및 테스트 세트)\n",
    "X_train, X_test, y_train, y_test = train_test_split(X, y, test_size=0.3, random_state=42)\n",
    "\n",
    "# 로지스틱 회귀 모델 학습\n",
    "model = LogisticRegression(class_weight='balanced',max_iter=1000)\n",
    "model.fit(X_train, y_train)\n",
    "\n",
    "# 예측 및 성능 평가\n",
    "y_pred = model.predict(X_test)\n",
    "print(\"Accuracy:\", accuracy_score(y_test, y_pred))\n",
    "print(\"\\nClassification Report:\\n\", classification_report(y_test, y_pred))"
   ]
  },
  {
   "cell_type": "markdown",
   "metadata": {},
   "source": [
    "두 모델 다 정확도는 비슷하나, 클래스 1에 대한 정밀도와 재현율에서 약간의 차이를 보인다.\n",
    "변수를 제거한 모델이 조금 더 좋은 성능을 보인다."
   ]
  }
 ],
 "metadata": {
  "kernelspec": {
   "display_name": "base",
   "language": "python",
   "name": "python3"
  },
  "language_info": {
   "codemirror_mode": {
    "name": "ipython",
    "version": 3
   },
   "file_extension": ".py",
   "mimetype": "text/x-python",
   "name": "python",
   "nbconvert_exporter": "python",
   "pygments_lexer": "ipython3",
   "version": "3.12.7"
  }
 },
 "nbformat": 4,
 "nbformat_minor": 2
}
